{
 "cells": [
  {
   "cell_type": "code",
   "execution_count": 1,
   "id": "e19b6039",
   "metadata": {},
   "outputs": [],
   "source": [
    "from find_shortest_path import get_path\n",
    "from build_data import build_data\n",
    "import pandas as pd\n",
    "from plot_underground_path import plot_path\n",
    "import time\n",
    "import timeit"
   ]
  },
  {
   "cell_type": "code",
   "execution_count": 2,
   "id": "e016b956",
   "metadata": {},
   "outputs": [],
   "source": [
    "stations, underground_lines = build_data()"
   ]
  },
  {
   "cell_type": "code",
   "execution_count": 3,
   "id": "1e40817c",
   "metadata": {},
   "outputs": [
    {
     "name": "stdout",
     "output_type": "stream",
     "text": [
      "['Heathrow Terminal 4', 'Hatton Cross', 'Hounslow West', 'Hounslow Central', 'Hounslow East', 'Osterley', 'Boston Manor', 'Northfields', 'South Ealing', 'Acton Town', 'Turnham Green', 'Hammersmith', 'Barons Court', \"Earl's Court\", 'Gloucester Road', 'South Kensington', 'Sloane Square', 'Victoria', 'Green Park', 'Oxford Circus', 'Warren Street', 'Euston', \"King's Cross St. Pancras\", 'Highbury & Islington', 'Finsbury Park', 'Seven Sisters', 'Tottenham Hale', 'Blackhorse Road']\n"
     ]
    }
   ],
   "source": [
    "path1 = get_path(start_station_name = 'Chorleywood', end_station_name = 'Loughton', stations_map = stations)\n",
    "# visualization the path\n",
    "# Open the visualization_underground/my_path_in_London_railway.html to view the path, and your path is marked in red\n",
    "plot_path(path1, 'visualization_underground/my_shortest_path1_in_London_railway.html', stations, underground_lines)\n",
    "\n",
    "path2 = get_path(start_station_name = 'Heathrow Terminal 4', end_station_name = 'Blackhorse Road', stations_map = stations)\n",
    "plot_path(path2, 'visualization_underground/my_shortest_path2_in_London_railway.html', stations, underground_lines)\n",
    "\n",
    "print(path2)"
   ]
  }
 ],
 "metadata": {
  "kernelspec": {
   "display_name": "Python 3 (ipykernel)",
   "language": "python",
   "name": "python3"
  },
  "language_info": {
   "codemirror_mode": {
    "name": "ipython",
    "version": 3
   },
   "file_extension": ".py",
   "mimetype": "text/x-python",
   "name": "python",
   "nbconvert_exporter": "python",
   "pygments_lexer": "ipython3",
   "version": "3.10.12"
  }
 },
 "nbformat": 4,
 "nbformat_minor": 5
}
