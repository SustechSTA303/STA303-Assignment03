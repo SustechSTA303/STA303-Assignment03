{
 "cells": [
  {
   "cell_type": "markdown",
   "id": "fcc9fb6f",
   "metadata": {},
   "source": [
    "## Assignment3: Find the shortest path in underground lines \n",
    "### File Description\n",
    "- [london](london) \n",
    "  - [underground_lines.csv](london%2Funderground_lines.csv)(London Underground lines Data)\n",
    "  - [underground_routes.csv](london%2Funderground_routes.csv)(Detailed data of London Underground lines)\n",
    "  - [underground_stations.csv](london%2Funderground_stations.csv)(London Underground stations Data)\n",
    "- [visualization_underground](visualization_underground)\n",
    "  - [London_railway.html](visualization_underground%2FLondon_railway.html)(London Underground Route Map)\n",
    "  - [my_path_in_London_railway.html](visualization_underground%2Fmy_path_in_London_railway.html)(Visualize a certain path on the London Underground route map)\n",
    "  - [London_Underground_Overground_DLR_Crossrail_map.svg](visualization_underground%2FLondon_Underground_Overground_DLR_Crossrail_map.svg)(London Underground Route Map)\n",
    "- [build_data.py](build_data.py) (Reading London Underground Line Data)\n",
    "- [find_shortest_path.py](find_shortest_path.py) (Find the shortest path between two stations)\n",
    "- [plot_underground_lines.py](plot_underground_lines.py) (Draw a map of the London Underground route)\n",
    "- [plot_underground_path.py](plot_underground_path.py) (Draw a path on the London Underground route map)\n",
    "- [README.md](README.md)\n",
    "### How to visualize the map and path\n",
    "- To draw a map of the London Underground route:\n",
    "```\n",
    "python plot_underground_lines.py\n",
    "```\n",
    "and open [London_railway.html](visualization_underground%2FLondon_railway.html) to view it.\n",
    "- To draw path on the map, such as ['Acton Town', 'Chiswick Park', 'Turnham Green', 'Stamford Brook']:\n",
    "```\n",
    "python plot_underground_path.py\n",
    "```\n",
    "Then, you can open [my_path_in_London_railway.html](visualization_underground%2Fmy_path_in_London_railway.html) to view it.\n",
    "\n",
    "### Assignment3 Requirements\n",
    "- Implement the function get_path() in [find_shortest_path.py](find_shortest_path.py).\n",
    "- After implementation, you can visualize the shortest path at a given starting and ending station, by running the following command: \n",
    "```\n",
    "python find_shortest_path.py  \"Acton Town\"  \"Turnham Green\"\n",
    "```\n",
    "The above example specifies the path from Acton Town to Turnham Green. \n",
    "\n",
    "***(Note: If there are blank space in the station name, station name need to be wrapped in double quotation marks(\"\") in the command line.)***\n",
    "\n",
    "Then, open `visualization_underground/my_shortest_path_in_London_railway.html` to view the path."
   ]
  },
  {
   "cell_type": "code",
   "execution_count": 1,
   "id": "d33fa470",
   "metadata": {},
   "outputs": [],
   "source": [
    "import build_data\n",
    "import find_shortest_path\n",
    "import matplotlib.pyplot as plt\n",
    "\n",
    "# 构建地图数据\n",
    "stations, underground_lines = build_data.build_data()"
   ]
  },
  {
   "cell_type": "code",
   "execution_count": 2,
   "id": "c40ddf5b",
   "metadata": {},
   "outputs": [
    {
     "name": "stdout",
     "output_type": "stream",
     "text": [
      "Elapsed time of A*:  0.0018055438995361328 seconds\n",
      "['Chiswick Park', 'Turnham Green', 'Hammersmith', 'Barons Court', \"Earl's Court\", 'Gloucester Road', 'South Kensington', 'Sloane Square', 'Victoria', \"St. James's Park\", 'Westminster', 'Waterloo', 'Bank', 'Liverpool Street', 'Aldgate East', 'Whitechapel', 'Stepney Green', 'Mile End', 'Stratford', 'Leyton', 'Leytonstone', 'Wanstead', 'Redbridge', 'Gants Hill', 'Newbury Park', 'Barkingside', 'Fairlop', 'Hainault']\n"
     ]
    }
   ],
   "source": [
    "start = \"Chiswick Park\"\n",
    "destination = \"Hainault\"\n",
    "# 调用 get_path_A_star2() 函数来找到最短路径 \n",
    "path3, time_a_star2 = find_shortest_path.get_path_A_star1(start, destination, stations)\n",
    "print(path3)\n",
    "\n",
    "# 可视化路径\n",
    "find_shortest_path.plot_path(path3, 'visualization_underground/my_shortest_path_in_London_railway.html', stations, underground_lines)"
   ]
  },
  {
   "cell_type": "code",
   "execution_count": 3,
   "id": "54a95a89",
   "metadata": {},
   "outputs": [
    {
     "name": "stdout",
     "output_type": "stream",
     "text": [
      "Elapsed time of A*:  0.0019028186798095703 seconds\n",
      "['Chiswick Park', 'Turnham Green', 'Hammersmith', 'Barons Court', \"Earl's Court\", 'Gloucester Road', 'South Kensington', 'Sloane Square', 'Victoria', \"St. James's Park\", 'Westminster', 'Waterloo', 'Bank', 'Liverpool Street', 'Aldgate East', 'Whitechapel', 'Stepney Green', 'Mile End', 'Stratford', 'Leyton', 'Leytonstone', 'Wanstead', 'Redbridge', 'Gants Hill', 'Newbury Park', 'Barkingside', 'Fairlop', 'Hainault']\n"
     ]
    }
   ],
   "source": [
    "start = \"Chiswick Park\"\n",
    "destination = \"Hainault\"\n",
    "# 调用 get_path_A_star1() 函数来找到最短路径 \n",
    "path2, time_a_star1 = find_shortest_path.get_path_A_star1(start, destination, stations)\n",
    "print(path2)\n",
    "\n",
    "# 可视化路径\n",
    "find_shortest_path.plot_path(path2, 'visualization_underground/my_shortest_path_in_London_railway.html', stations, underground_lines)"
   ]
  },
  {
   "cell_type": "code",
   "execution_count": 4,
   "id": "abcb9f11",
   "metadata": {},
   "outputs": [
    {
     "name": "stdout",
     "output_type": "stream",
     "text": [
      "Path found with total cost 32.5060416739153 km\n",
      "Elapsed time of Uniform Cost Search:  0.0042912960052490234 seconds\n",
      "['Chiswick Park', 'Turnham Green', 'Hammersmith', 'Barons Court', \"Earl's Court\", 'Gloucester Road', 'South Kensington', 'Sloane Square', 'Victoria', \"St. James's Park\", 'Westminster', 'Waterloo', 'Bank', 'Liverpool Street', 'Aldgate East', 'Whitechapel', 'Stepney Green', 'Mile End', 'Stratford', 'Leyton', 'Leytonstone', 'Wanstead', 'Redbridge', 'Gants Hill', 'Newbury Park', 'Barkingside', 'Fairlop', 'Hainault']\n"
     ]
    }
   ],
   "source": [
    "start = \"Chiswick Park\"\n",
    "destination = \"Hainault\"\n",
    "# 调用 get_path_ucs() 函数来找到最短路径 \n",
    "path1, time_ucs = find_shortest_path.get_path_ucs(start, destination, stations)\n",
    "print(path1)\n",
    "\n",
    "# 可视化路径\n",
    "find_shortest_path.plot_path(path1, 'visualization_underground/my_shortest_path_in_London_railway.html', stations, underground_lines)"
   ]
  },
  {
   "cell_type": "code",
   "execution_count": 5,
   "id": "99f74eb8",
   "metadata": {},
   "outputs": [
    {
     "data": {
      "image/png": "[encoded data removed]",
      "text/plain": [
       "<Figure size 640x480 with 1 Axes>"
      ]
     },
     "metadata": {},
     "output_type": "display_data"
    }
   ],
   "source": [
    "# 搜索方法\n",
    "methods = ['Uniform Cost Search', 'A*_1', 'A*_2']\n",
    "\n",
    "# 创建柱状图\n",
    "plt.bar(methods, [time_ucs, time_a_star1, time_a_star2])\n",
    "plt.ylabel('Time (seconds)')\n",
    "plt.title('Comparison of Search Methods')\n",
    "plt.show()"
   ]
  },
  {
   "cell_type": "markdown",
   "id": "f5a2c162",
   "metadata": {},
   "source": [
    "# 构建地图数据\n",
    "stations, underground_lines = build_data.build_data()\n",
    "\n",
    "# 调用 get_path() 函数来找到从 \"Acton Town\" 到 \"Turnham Green\" 的最短路径\n",
    "path = find_shortest_path.get_path(\"Kenton\", \"Grange Hill\", stations)\n",
    "print(path)\n",
    "\n",
    "# 可视化路径\n",
    "find_shortest_path.plot_path(path, 'visualization_underground/my_shortest_path_in_London_railway.html', stations, underground_lines)"
   ]
  },
  {
   "cell_type": "code",
   "execution_count": null,
   "id": "e86130d0",
   "metadata": {},
   "outputs": [],
   "source": []
  },
  {
   "cell_type": "markdown",
   "id": "6e396181",
   "metadata": {},
   "source": [
    "if __name__ == '__main__':\n",
    "\n",
    "    # 创建ArgumentParser对象\n",
    "    parser = argparse.ArgumentParser()\n",
    "    # 添加命令行参数\n",
    "    parser.add_argument('start_station_name', type=str, help='start_station_name')\n",
    "    parser.add_argument('end_station_name', type=str, help='end_station_name')\n",
    "    args = parser.parse_args()\n",
    "    start_station_name = args.start_station_name\n",
    "    end_station_name = args.end_station_name\n",
    "\n",
    "    # The relevant descriptions of stations and underground_lines can be found in the build_data.py\n",
    "    stations, underground_lines = build_data()\n",
    "    path = get_path(start_station_name, end_station_name, stations)\n",
    "    # visualization the path\n",
    "    # Open the visualization_underground/my_path_in_London_railway.html to view the path, and your path is marked in red\n",
    "    plot_path(path, 'visualization_underground/my_shortest_path_in_London_railway.html', stations, underground_lines)\n",
    "\n",
    "def get_path(start_station_name: str, end_station_name: str, map: dict[str, Station]):\n",
    "    return get_path_ucs(start_station_name, end_station_name, map)"
   ]
  }
 ],
 "metadata": {
  "kernelspec": {
   "display_name": "Python 3 (ipykernel)",
   "language": "python",
   "name": "python3"
  },
  "language_info": {
   "codemirror_mode": {
    "name": "ipython",
    "version": 3
   },
   "file_extension": ".py",
   "mimetype": "text/x-python",
   "name": "python",
   "nbconvert_exporter": "python",
   "pygments_lexer": "ipython3",
   "version": "3.10.12"
  }
 },
 "nbformat": 4,
 "nbformat_minor": 5
}
