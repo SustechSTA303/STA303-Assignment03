{
 "cells": [
  {
   "cell_type": "code",
   "execution_count": 3,
   "id": "8e7bc54d",
   "metadata": {},
   "outputs": [],
   "source": [
    "!python build_data.py"
   ]
  },
  {
   "cell_type": "code",
   "execution_count": 1,
   "id": "a2e115e3",
   "metadata": {},
   "outputs": [
    {
     "name": "stdout",
     "output_type": "stream",
     "text": [
      "Path: ['Acton Town', 'Turnham Green']\n"
     ]
    }
   ],
   "source": [
    "!python find_shortest_path.py  \"Acton Town\"  \"Turnham Green\""
   ]
  },
  {
   "cell_type": "code",
   "execution_count": 3,
   "id": "8547229d",
   "metadata": {
    "scrolled": true
   },
   "outputs": [
    {
     "name": "stdout",
     "output_type": "stream",
     "text": [
      "Prim's Path: ['Acton Town', 'Turnham Green', 'Hammersmith', 'Barons Court', \"Earl's Court\", 'Gloucester Road', 'South Kensington', 'Knightsbridge', 'Hyde Park Corner', 'Green Park', 'Oxford Circus', 'Warren Street', 'Euston', \"King's Cross St. Pancras\"]\n"
     ]
    }
   ],
   "source": [
    "!python weighted_a_star.py \"Acton Town\"  \"King's Cross St. Pancras\""
   ]
  },
  {
   "cell_type": "code",
   "execution_count": 21,
   "id": "0431576a",
   "metadata": {},
   "outputs": [
    {
     "name": "stdout",
     "output_type": "stream",
     "text": [
      "Path: ['Acton Town', 'Turnham Green', 'Hammersmith', 'Barons Court', \"Earl's Court\", 'Gloucester Road', 'South Kensington', 'Knightsbridge', 'Hyde Park Corner', 'Green Park', 'Westminster', 'Waterloo', 'Bank', 'Liverpool Street', 'Bethnal Green', 'Mile End', 'Stratford']\n"
     ]
    }
   ],
   "source": [
    "!python manhattan_distance.py \"Acton Town\"  \"Stratford\""
   ]
  },
  {
   "cell_type": "code",
   "execution_count": 4,
   "id": "48603b01",
   "metadata": {},
   "outputs": [
    {
     "name": "stdout",
     "output_type": "stream",
     "text": [
      "Path: ['Acton Town', 'Turnham Green', 'Hammersmith', 'Barons Court', \"Earl's Court\", 'Gloucester Road', 'South Kensington', 'Sloane Square', 'Victoria', \"St. James's Park\", 'Westminster', 'Waterloo', 'Bank', 'London Bridge', 'Bermondsey', 'Canada Water']\n"
     ]
    }
   ],
   "source": [
    "!python chebyshev_distance.py \"Acton Town\"  \"Canada Water\""
   ]
  },
  {
   "cell_type": "code",
   "execution_count": 20,
   "id": "0d4d24dd",
   "metadata": {
    "scrolled": true
   },
   "outputs": [
    {
     "name": "stdout",
     "output_type": "stream",
     "text": [
      "A* Algorithm  Euclidean distance: 0.0035547001753002405 seconds\n",
      "A* Algorithm  Manhattan distance: 0.005072899861261249 seconds\n",
      "A* Algorithm  Chebyshev distance: 0.004895899910479784 seconds\n",
      "Dijkstras: 0.002888699993491173 seconds\n",
      "weighted_a_star: 0.0016447000671178102 seconds\n"
     ]
    }
   ],
   "source": [
    "!python test_time.py"
   ]
  },
  {
   "cell_type": "code",
   "execution_count": 19,
   "id": "bf9deec4",
   "metadata": {},
   "outputs": [
    {
     "name": "stdout",
     "output_type": "stream",
     "text": [
      "Euclidean distance Expanded nodes:98\n",
      "Manhattan distance Expanded nodes:164\n",
      "Chebyshev distance Expanded nodes:166\n",
      "Euclidean distance Iterations:161\n",
      "Manhattan distance Iterations:374\n",
      "Chebyshev distance Iterations:347\n"
     ]
    }
   ],
   "source": [
    "!python test_nodes.py"
   ]
  },
  {
   "cell_type": "code",
   "execution_count": null,
   "id": "3b4498f0",
   "metadata": {},
   "outputs": [],
   "source": []
  },
  {
   "cell_type": "code",
   "execution_count": null,
   "id": "93ac450a",
   "metadata": {},
   "outputs": [],
   "source": []
  }
 ],
 "metadata": {
  "kernelspec": {
   "display_name": "Python 3 (ipykernel)",
   "language": "python",
   "name": "python3"
  },
  "language_info": {
   "codemirror_mode": {
    "name": "ipython",
    "version": 3
   },
   "file_extension": ".py",
   "mimetype": "text/x-python",
   "name": "python",
   "nbconvert_exporter": "python",
   "pygments_lexer": "ipython3",
   "version": "3.10.12"
  }
 },
 "nbformat": 4,
 "nbformat_minor": 5
}
