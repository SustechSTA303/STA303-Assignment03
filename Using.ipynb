{
 "cells": [
  {
   "cell_type": "code",
   "execution_count": 1,
   "metadata": {},
   "outputs": [],
   "source": [
    "from plot_underground_path import plot_path\n",
    "from build_data import Station, build_data\n",
    "from Astar import get_path as Astar\n",
    "from DeepSearch import get_path as DFS\n",
    "from BFS import get_path as BFS\n",
    "import numpy as np\n",
    "import time"
   ]
  },
  {
   "cell_type": "markdown",
   "metadata": {},
   "source": [
    "## Single Test"
   ]
  },
  {
   "cell_type": "code",
   "execution_count": 4,
   "metadata": {},
   "outputs": [
    {
     "name": "stdout",
     "output_type": "stream",
     "text": [
      "['Ruislip', 'Ruislip Manor', 'Eastcote', 'Rayners Lane', 'West Harrow', 'Harrow-on-the-Hill', 'Northwick Park', 'Preston Road', 'Wembley Park', 'Finchley Road', 'Baker Street', \"Regent's Park\", 'Oxford Circus', 'Piccadilly Circus', 'Charing Cross', 'Embankment', 'Waterloo', 'Bank', 'Shadwell', 'Limehouse', 'Westferry', 'Poplar', 'West India Quay', 'Canary Wharf', 'Heron Quays', 'South Quay', 'Crossharbour & London Arena', 'Mudchute', 'Island Gardens', 'Cutty Sark', 'Greenwich', 'Deptford Bridge', 'Elverson Road', 'Lewisham']\n"
     ]
    }
   ],
   "source": [
    "stations, underground_lines = build_data()\n",
    "path = BFS(\"Ruislip\", \"Lewisham\", stations)\n",
    "print(path)\n",
    "plot_path(path, './my_shortest_path_in_London_railway.html', stations, underground_lines)"
   ]
  },
  {
   "cell_type": "markdown",
   "metadata": {},
   "source": [
    "## A* With L1"
   ]
  },
  {
   "cell_type": "code",
   "execution_count": 36,
   "metadata": {},
   "outputs": [
    {
     "name": "stdout",
     "output_type": "stream",
     "text": [
      "Astar With L1\n",
      "24.699999999999996\n",
      "0.7577413774672008\n"
     ]
    }
   ],
   "source": [
    "start = [\"Chesham\",'Chalfont & Latimer','Northwood',\"King's Cross St. Pancras\",'Barbican',\"Ruislip\",\"Uxbridge\",\"Hatton Cross\",\"Richmond\",\"Kingsbury\",\"Stanmore\"]\n",
    "end = [\"Chigwell\",\"Grange Hill\",\"Debden\",\"Beckton\",\"Lewisham\",\"Upney\",\"New Cross\",\"Brixton\",\"Woodford\",\"Mile End\"]\n",
    "stations, underground_lines = build_data()\n",
    "steps = []\n",
    "CostTime = []\n",
    "MeanTime =[]\n",
    "Meanstps = [] \n",
    "for i in range(10):\n",
    "    for a in start:\n",
    "        for b in end:\n",
    "            start_time = time.time()\n",
    "            path = Astar(a,b,stations)\n",
    "            end_time = time.time()\n",
    "            CostTime.append((end_time-start_time)*1000)\n",
    "            steps.append(len(path))\n",
    "    \n",
    "    Meanstps.append(np.mean(steps))\n",
    "    MeanTime.append(np.mean(CostTime))\n",
    "print(\"Astar With L1\")\n",
    "print(np.mean(Meanstps))\n",
    "print(np.mean(MeanTime))"
   ]
  },
  {
   "cell_type": "markdown",
   "metadata": {},
   "source": [
    "## Astar With L2"
   ]
  },
  {
   "cell_type": "code",
   "execution_count": 39,
   "metadata": {},
   "outputs": [
    {
     "name": "stdout",
     "output_type": "stream",
     "text": [
      "Astar With L2\n",
      "24.699999999999996\n",
      "0.7506155006985299\n"
     ]
    }
   ],
   "source": [
    "start = [\"Chesham\",'Chalfont & Latimer','Northwood',\"King's Cross St. Pancras\",'Barbican',\"Ruislip\",\"Uxbridge\",\"Hatton Cross\",\"Richmond\",\"Kingsbury\",\"Stanmore\"]\n",
    "end = [\"Chigwell\",\"Grange Hill\",\"Debden\",\"Beckton\",\"Lewisham\",\"Upney\",\"New Cross\",\"Brixton\",\"Woodford\",\"Mile End\"]\n",
    "stations, underground_lines = build_data()\n",
    "steps = []\n",
    "CostTime = []\n",
    "MeanTime =[]\n",
    "Meanstps = [] \n",
    "for i in range(10):\n",
    "    for a in start:\n",
    "        for b in end:\n",
    "            start_time = time.time()\n",
    "            path = Astar(a,b,stations)\n",
    "            end_time = time.time()\n",
    "            CostTime.append((end_time-start_time)*1000)\n",
    "            steps.append(len(path))\n",
    "    \n",
    "    Meanstps.append(np.mean(steps))\n",
    "    MeanTime.append(np.mean(CostTime))\n",
    "print(\"Astar With L2\")\n",
    "print(np.mean(Meanstps))\n",
    "print(np.mean(MeanTime))"
   ]
  },
  {
   "cell_type": "markdown",
   "metadata": {},
   "source": [
    "## DFS"
   ]
  },
  {
   "cell_type": "code",
   "execution_count": 31,
   "metadata": {},
   "outputs": [
    {
     "name": "stdout",
     "output_type": "stream",
     "text": [
      "DFS\n",
      "64.47272727272727\n",
      "0.10058643910791967\n"
     ]
    }
   ],
   "source": [
    "#用于计算每个算法不同的result平均站点,以及花费的平均时间。\n",
    "start = [\"Chesham\",'Chalfont & Latimer','Northwood',\"King's Cross St. Pancras\",'Barbican',\"Ruislip\",\"Uxbridge\",\"Hatton Cross\",\"Richmond\",\"Kingsbury\",\"Stanmore\"]\n",
    "end = [\"Chigwell\",\"Grange Hill\",\"Debden\",\"Beckton\",\"Lewisham\",\"Upney\",\"New Cross\",\"Brixton\",\"Woodford\",\"Mile End\"]\n",
    "stations, underground_lines = build_data()\n",
    "steps = []\n",
    "CostTime = []\n",
    "MeanTime =[]\n",
    "Meanstps = [] \n",
    "for i in range(10):\n",
    "    for a in start:\n",
    "        for b in end:\n",
    "            start_time = time.time()\n",
    "            path = DFS(a,b,stations)\n",
    "            end_time = time.time()\n",
    "            CostTime.append((end_time-start_time)*1000)\n",
    "            steps.append(len(path))\n",
    "    \n",
    "    Meanstps.append(np.mean(steps))\n",
    "    MeanTime.append(np.mean(CostTime))\n",
    "print(\"DFS\")\n",
    "print(np.mean(Meanstps))\n",
    "print(np.mean(MeanTime))"
   ]
  },
  {
   "cell_type": "markdown",
   "metadata": {},
   "source": [
    "## BFS"
   ]
  },
  {
   "cell_type": "code",
   "execution_count": 32,
   "metadata": {},
   "outputs": [
    {
     "name": "stdout",
     "output_type": "stream",
     "text": [
      "BFS\n",
      "24.063636363636363\n",
      "2.057460149129232\n"
     ]
    }
   ],
   "source": [
    "#用于计算每个算法不同的result平均站点,以及花费的平均时间。\n",
    "start = [\"Chesham\",'Chalfont & Latimer','Northwood',\"King's Cross St. Pancras\",'Barbican',\"Ruislip\",\"Uxbridge\",\"Hatton Cross\",\"Richmond\",\"Kingsbury\",\"Stanmore\"]\n",
    "end = [\"Chigwell\",\"Grange Hill\",\"Debden\",\"Beckton\",\"Lewisham\",\"Upney\",\"New Cross\",\"Brixton\",\"Woodford\",\"Mile End\"]\n",
    "stations, underground_lines = build_data()\n",
    "steps = []\n",
    "CostTime = []\n",
    "MeanTime =[]\n",
    "Meanstps = [] \n",
    "for i in range(10):\n",
    "    for a in start:\n",
    "        for b in end:\n",
    "            start_time = time.time()\n",
    "            path = BFS(a,b,stations)\n",
    "            end_time = time.time()\n",
    "            CostTime.append((end_time-start_time)*1000)\n",
    "            steps.append(len(path))\n",
    "    \n",
    "    Meanstps.append(np.mean(steps))\n",
    "    MeanTime.append(np.mean(CostTime))\n",
    "print(\"BFS\")\n",
    "print(np.mean(Meanstps))\n",
    "print(np.mean(MeanTime))"
   ]
  },
  {
   "cell_type": "code",
   "execution_count": null,
   "metadata": {},
   "outputs": [],
   "source": []
  }
 ],
 "metadata": {
  "kernelspec": {
   "display_name": "base",
   "language": "python",
   "name": "python3"
  },
  "language_info": {
   "codemirror_mode": {
    "name": "ipython",
    "version": 3
   },
   "file_extension": ".py",
   "mimetype": "text/x-python",
   "name": "python",
   "nbconvert_exporter": "python",
   "pygments_lexer": "ipython3",
   "version": "3.11.3"
  }
 },
 "nbformat": 4,
 "nbformat_minor": 2
}
